{
  "nbformat": 4,
  "nbformat_minor": 0,
  "metadata": {
    "colab": {
      "provenance": [],
      "collapsed_sections": [
        "uU2H7iNJkLk7",
        "VYCCnZr0PO6l",
        "x95g-WKVUoZB"
      ]
    },
    "kernelspec": {
      "name": "python3",
      "display_name": "Python 3"
    },
    "language_info": {
      "name": "python"
    }
  },
  "cells": [
    {
      "cell_type": "markdown",
      "source": [
        "# **Properties based Approach**"
      ],
      "metadata": {
        "id": "D5mRiRGRFPZm"
      }
    },
    {
      "cell_type": "code",
      "source": [
        "!pip install Bio"
      ],
      "metadata": {
        "colab": {
          "base_uri": "https://localhost:8080/"
        },
        "id": "Uv-c5Kh7FjEs",
        "outputId": "ed2f4b20-e036-41e6-b9e7-0751cddc290c"
      },
      "execution_count": null,
      "outputs": [
        {
          "output_type": "stream",
          "name": "stdout",
          "text": [
            "Collecting Bio\n",
            "  Downloading bio-1.7.1-py3-none-any.whl.metadata (5.7 kB)\n",
            "Collecting biopython>=1.80 (from Bio)\n",
            "  Downloading biopython-1.84-cp310-cp310-manylinux_2_17_x86_64.manylinux2014_x86_64.whl.metadata (12 kB)\n",
            "Collecting gprofiler-official (from Bio)\n",
            "  Downloading gprofiler_official-1.0.0-py3-none-any.whl.metadata (11 kB)\n",
            "Collecting mygene (from Bio)\n",
            "  Downloading mygene-3.2.2-py2.py3-none-any.whl.metadata (10 kB)\n",
            "Requirement already satisfied: pandas in /usr/local/lib/python3.10/dist-packages (from Bio) (2.2.2)\n",
            "Requirement already satisfied: pooch in /usr/local/lib/python3.10/dist-packages (from Bio) (1.8.2)\n",
            "Requirement already satisfied: requests in /usr/local/lib/python3.10/dist-packages (from Bio) (2.32.3)\n",
            "Requirement already satisfied: tqdm in /usr/local/lib/python3.10/dist-packages (from Bio) (4.67.1)\n",
            "Requirement already satisfied: numpy in /usr/local/lib/python3.10/dist-packages (from biopython>=1.80->Bio) (1.26.4)\n",
            "Collecting biothings-client>=0.2.6 (from mygene->Bio)\n",
            "  Downloading biothings_client-0.3.1-py2.py3-none-any.whl.metadata (9.8 kB)\n",
            "Requirement already satisfied: python-dateutil>=2.8.2 in /usr/local/lib/python3.10/dist-packages (from pandas->Bio) (2.8.2)\n",
            "Requirement already satisfied: pytz>=2020.1 in /usr/local/lib/python3.10/dist-packages (from pandas->Bio) (2024.2)\n",
            "Requirement already satisfied: tzdata>=2022.7 in /usr/local/lib/python3.10/dist-packages (from pandas->Bio) (2024.2)\n",
            "Requirement already satisfied: platformdirs>=2.5.0 in /usr/local/lib/python3.10/dist-packages (from pooch->Bio) (4.3.6)\n",
            "Requirement already satisfied: packaging>=20.0 in /usr/local/lib/python3.10/dist-packages (from pooch->Bio) (24.2)\n",
            "Requirement already satisfied: charset-normalizer<4,>=2 in /usr/local/lib/python3.10/dist-packages (from requests->Bio) (3.4.0)\n",
            "Requirement already satisfied: idna<4,>=2.5 in /usr/local/lib/python3.10/dist-packages (from requests->Bio) (3.10)\n",
            "Requirement already satisfied: urllib3<3,>=1.21.1 in /usr/local/lib/python3.10/dist-packages (from requests->Bio) (2.2.3)\n",
            "Requirement already satisfied: certifi>=2017.4.17 in /usr/local/lib/python3.10/dist-packages (from requests->Bio) (2024.12.14)\n",
            "Requirement already satisfied: six>=1.5 in /usr/local/lib/python3.10/dist-packages (from python-dateutil>=2.8.2->pandas->Bio) (1.17.0)\n",
            "Downloading bio-1.7.1-py3-none-any.whl (280 kB)\n",
            "\u001b[2K   \u001b[90m━━━━━━━━━━━━━━━━━━━━━━━━━━━━━━━━━━━━━━━━\u001b[0m \u001b[32m281.0/281.0 kB\u001b[0m \u001b[31m7.2 MB/s\u001b[0m eta \u001b[36m0:00:00\u001b[0m\n",
            "\u001b[?25hDownloading biopython-1.84-cp310-cp310-manylinux_2_17_x86_64.manylinux2014_x86_64.whl (3.2 MB)\n",
            "\u001b[2K   \u001b[90m━━━━━━━━━━━━━━━━━━━━━━━━━━━━━━━━━━━━━━━━\u001b[0m \u001b[32m3.2/3.2 MB\u001b[0m \u001b[31m40.9 MB/s\u001b[0m eta \u001b[36m0:00:00\u001b[0m\n",
            "\u001b[?25hDownloading gprofiler_official-1.0.0-py3-none-any.whl (9.3 kB)\n",
            "Downloading mygene-3.2.2-py2.py3-none-any.whl (5.4 kB)\n",
            "Downloading biothings_client-0.3.1-py2.py3-none-any.whl (29 kB)\n",
            "Installing collected packages: biopython, gprofiler-official, biothings-client, mygene, Bio\n",
            "Successfully installed Bio-1.7.1 biopython-1.84 biothings-client-0.3.1 gprofiler-official-1.0.0 mygene-3.2.2\n"
          ]
        }
      ]
    },
    {
      "cell_type": "code",
      "source": [
        "from Bio import SeqIO\n",
        "import matplotlib.pyplot as plt\n",
        "import numpy as np\n",
        "import warnings\n",
        "warnings.filterwarnings(\"ignore\")\n",
        "\n",
        "\n",
        "def sse_prediction(sequence):\n",
        "\n",
        "    # Helix-forming amino acids\n",
        "    helix_aas = {'A', 'L', 'E', 'K', 'M', 'Q', 'R', 'H'}\n",
        "    # Sheet-forming amino acids\n",
        "    sheet_aas = {'V', 'I', 'Y', 'C', 'W', 'T', 'F'}\n",
        "    # Coil-forming amino acids\n",
        "    coil_aas = {'G', 'P', 'S', 'N', 'D'}\n",
        "\n",
        "    structure = []\n",
        "    for aa in sequence:\n",
        "        if aa in helix_aas:\n",
        "            structure.append('H')\n",
        "        elif aa in sheet_aas:\n",
        "            structure.append('E')\n",
        "        elif aa in coil_aas:\n",
        "            structure.append('-')\n",
        "        else:\n",
        "            structure.append('-')\n",
        "    return ''.join(structure)\n",
        "\n",
        "#Read and Process sequence file\n",
        "def process_fasta_file(file_path):\n",
        "\n",
        "    for record in SeqIO.parse(file_path, \"fasta\"):\n",
        "        protein_sequence = str(record.seq)\n",
        "        predicted_structure = sse_prediction(protein_sequence)\n",
        "\n",
        "\n",
        "        print(f\"OrigSeq                : {protein_sequence} : OrigSeq\")\n",
        "        print(f\"SSE_Predict            : {predicted_structure} : SSE_Predict\")\n",
        "\n",
        "        # Visualization\n",
        "        visualize_secondary_structure(protein_sequence, predicted_structure, record.id)\n",
        "\n",
        "#Visualize the secondary structure\n",
        "def visualize_secondary_structure(protein_sequence, predicted_structure, sequence_id):\n",
        "\n",
        "    color_map = {\n",
        "        'H': 'lightblue',  # Helix\n",
        "        'E': 'lightpink',  # Beta Sheet\n",
        "        '-': 'grey'        # Coil\n",
        "    }\n",
        "\n",
        "\n",
        "    fig, ax = plt.subplots(figsize=(12, 0.5))\n",
        "    x = np.arange(len(protein_sequence))\n",
        "\n",
        "    for i, (aa, structure) in enumerate(zip(protein_sequence, predicted_structure)):\n",
        "        ax.bar(x[i], 1, color=color_map[structure], width=1, align='center')\n",
        "\n",
        "    ax.set_xlim(-1, len(protein_sequence))\n",
        "    ax.set_ylim(0, 1)\n",
        "    ax.set_xticks(x[::10])\n",
        "    ax.set_xticklabels(protein_sequence[::10], rotation=90, fontsize=8)\n",
        "    ax.set_yticks([])\n",
        "    ax.set_xlabel('Amino Acid Position')\n",
        "    ax.set_title(f'Predicted Secondary Structure of Sequence: {sequence_id}')\n",
        "\n",
        "    # handles = [plt.Line2D([0], [0], color=color, lw=4, label=label) for label, color in {\n",
        "    #     'Helix': 'lightblue', 'Sheet': 'lightpink', 'Coil': 'grey'}.items()]\n",
        "    # ax.legend(handles=handles, loc='upper right')\n",
        "\n",
        "    plt.tight_layout()\n",
        "    plt.show()\n",
        "\n",
        "\n",
        "fasta_file_path = \"/content/sequence.fasta\"\n",
        "process_fasta_file(fasta_file_path)\n"
      ],
      "metadata": {
        "colab": {
          "base_uri": "https://localhost:8080/",
          "height": 191
        },
        "id": "VdKxXj4LGMXc",
        "outputId": "0c764867-5d3f-411c-d8f3-91134d516630"
      },
      "execution_count": null,
      "outputs": [
        {
          "output_type": "stream",
          "name": "stdout",
          "text": [
            "OrigSeq                : MQVWPIEGIKKFETLSYLPPLTVEDLLKQIEYLLRSKWVPCLEFSKVGFVYRENHRSPGYYDGRYWTMWKLPMFGCTDATQVLKELEEAKKAYPDAFVRIIGFDNVRQVQLISFIAYKPPGC : OrigSeq\n",
            "SSE_Predict            : HHEE-EH-EHHEHEH-EH--HEEH-HHHHEHEHHH-HEE-EHHE-HE-EEEHH-HH---EE--HEEEHEHH-HE-EE-HEHEHHHHHHHHHHE--HEEHEE-E--EHHEHHE-EEHEH---E : SSE_Predict\n"
          ]
        },
        {
          "output_type": "display_data",
          "data": {
            "text/plain": [
              "<Figure size 1200x50 with 1 Axes>"
            ],
            "image/png": "[encoded data removed]"
          },
          "metadata": {}
        }
      ]
    },
    {
      "cell_type": "markdown",
      "source": [
        "## **Function without Coil**"
      ],
      "metadata": {
        "id": "SQnc_8eUkbw8"
      }
    },
    {
      "cell_type": "code",
      "source": [
        "import matplotlib.pyplot as plt\n",
        "import numpy as np\n",
        "\n",
        "aa_properties = {\n",
        "    'A': 'H',  # Alanine: Helix\n",
        "    'R': 'E',  # Arginine: Beta Sheet\n",
        "    'N': 'E',  # Asparagine: Beta Sheet\n",
        "    'D': 'E',  # Aspartic acid: Beta Sheet\n",
        "    'C': 'H',  # Cysteine: Helix\n",
        "    'Q': 'E',  # Glutamine: Beta Sheet\n",
        "    'E': 'H',  # Glutamic acid: Helix\n",
        "    'G': 'E',  # Glycine: Beta Sheet\n",
        "    'H': 'H',  # Histidine: Helix\n",
        "    'I': 'E',  # Isoleucine: Helix\n",
        "    'L': 'H',  # Leucine: Helix\n",
        "    'K': 'H',  # Lysine: Helix\n",
        "    'M': 'H',  # Methionine: Helix\n",
        "    'F': 'E',  # Phenylalanine: Beta Sheet\n",
        "    'P': 'E',  # Proline: Beta Sheet\n",
        "    'S': 'E',  # Serine: Beta Sheet\n",
        "    'T': 'E',  # Threonine: Beta Sheet\n",
        "    'W': 'E',  # Tryptophan: Helix\n",
        "    'Y': 'E',  # Tyrosine: Beta Sheet\n",
        "    'V': 'E',   # Valine: Beta Sheet\n",
        "}\n",
        "\n",
        "\n",
        "\n",
        "def read_fasta(file_path):\n",
        "    with open(file_path, 'r') as file:\n",
        "        next(file)\n",
        "\n",
        "        sequence = \"\".join(line.strip() for line in file)\n",
        "    return sequence\n",
        "\n",
        "\n",
        "fasta_file_path = 'sequence.fasta'\n",
        "\n",
        "# Reading sequence from the FASTA file\n",
        "protein_sequence = read_fasta(fasta_file_path)\n",
        "\n",
        "\n",
        "def predict_secondary_structure(protein_sequence):\n",
        "    seq = \"\"\n",
        "    for aa in protein_sequence:\n",
        "        if aa in aa_properties:\n",
        "            seq += aa_properties[aa]\n",
        "        else:\n",
        "            seq += '-'\n",
        "    return seq\n",
        "\n",
        "# Calling function\n",
        "predicted_structure = predict_secondary_structure(protein_sequence)\n",
        "\n",
        "\n",
        "color_map = {\n",
        "    'H': 'lightblue',  # Helix: Blue\n",
        "    'E': 'lightpink',  # Beta Sheet: Green\n",
        "    '-': 'grey'   # Coil/Unclassified: Grey\n",
        "}\n",
        "\n",
        "# Plotting the sequence and its secondary structure\n",
        "fig, ax = plt.subplots(figsize=(12, 0.3))\n",
        "x = np.arange(len(protein_sequence))\n",
        "y = [0] * len(protein_sequence)\n",
        "\n",
        "# Plotting each amino acid\n",
        "for i, aa in enumerate(predicted_structure):\n",
        "    ax.bar(x[i], 1, color=color_map[aa], width=1, align='center')\n",
        "\n",
        "# Setting plot\n",
        "ax.set_xlim(-1, len(protein_sequence))\n",
        "ax.set_ylim(0, 1)\n",
        "ax.set_xticks(x[::10])\n",
        "ax.set_xticklabels(protein_sequence[::10])\n",
        "ax.set_yticks([])\n",
        "ax.set_xlabel('Amino Acids')\n",
        "ax.set_title('Predicted Secondary Structure of Protein Sequence')\n",
        "\n",
        "plt.show()\n",
        "\n",
        "print(f\"OrigSeq                : {protein_sequence} : OrigSeq\")\n",
        "print(f\"SSE_Predict            : {predicted_structure} :\")"
      ],
      "metadata": {
        "colab": {
          "base_uri": "https://localhost:8080/",
          "height": 180
        },
        "id": "SLnyJiGHlYva",
        "outputId": "a00bccdd-3b6e-4c38-db6c-61f41e103016"
      },
      "execution_count": null,
      "outputs": [
        {
          "output_type": "display_data",
          "data": {
            "text/plain": [
              "<Figure size 1200x30 with 1 Axes>"
            ],
            "image/png": "[encoded data removed]"
          },
          "metadata": {}
        },
        {
          "output_type": "stream",
          "name": "stdout",
          "text": [
            "OrigSeq                : MAESQEFADLWERNLISTQEGAPCWEFINDEQYLPSSFDPNIFDNVLNEPPQTSTSPPTASVPVATDYPGEHGFKLGFPQSGTAKSVTCTYSSELNKLFCQLAKTCPVQMVVDVAPPQGSVIRATAIYKKSEHVAEVVRRCPHHERTPDGDGLAPAAHLVRVEGNSRALYREDDTTSRHSVVVPYEAPQVGAEFTTILYNFMCNSSCMGGMNRRPILTIITLETHDGQLLGRRSFEVRVCACPGRDRKTEESNFRKDQETKTLGKAPSANKRSLTKESTSSVPRPEGSKKAKLSGSSDEEMYTLQVRGKERYEMLKKINDSLELSDVVPPSEMDRYRQKLLTKSKKEKDGQAPEPKRGKKLMVKDEKSDSD : OrigSeq\n",
            "SSE_Predict            : HHHEEHEHEHEHEEHEEEEHEHEHEHEEEEHEEHEEEEEEEEEEEEHEHEEEEEEEEEEHEEEEHEEEEEHHEEHHEEEEEEEHHEEEHEEEEHHEHHEHEHHHEHEEEHEEEEHEEEEEEEEHEHEEHHEHHEHHEEEEHEHHHEEEEEEEHHEHHHHEEEHEEEEHHEEHEEEEEEHEEEEEEHHEEEEHHEEEEHEEEHHEEEHHEEHEEEEEHEEEEHHEHEEEHHEEEEEHEEEHHHEEEEEHEHHEEEEHEEHEHEHEHHEEHEHEEHEHHEEEEEEEEHEEHHHHHEEEEEHHHEEHEEEEHHEEHHHHHEEEEHHHEEEEEEEHHEEEEEHHHEHEHHHHEEEHEHEHEEHHHHEHEHHEEEE :\n"
          ]
        }
      ]
    },
    {
      "cell_type": "code",
      "source": [
        "from collections import Counter\n",
        "# Amino Acid Composition Plot\n",
        "aa_counts = Counter(protein_sequence)  # Count the occurrence of each amino acid\n",
        "aa_labels = list(aa_counts.keys())  # Amino acid types\n",
        "aa_frequencies = list(aa_counts.values())  # Corresponding frequencies\n",
        "\n",
        "# Plotting the amino acid composition\n",
        "fig, ax = plt.subplots(figsize=(12, 6))\n",
        "ax.bar(aa_labels, aa_frequencies, color='skyblue')\n",
        "ax.set_xlabel('Amino Acid')\n",
        "ax.set_ylabel('Frequency')\n",
        "ax.set_title('Amino Acid Composition of the Protein Sequence')\n",
        "plt.xticks(rotation=90)  # Rotate labels for better visibility\n",
        "plt.show()"
      ],
      "metadata": {
        "colab": {
          "base_uri": "https://localhost:8080/",
          "height": 564
        },
        "id": "N5nebbx_ydwl",
        "outputId": "c12eed72-73df-4fea-fcde-5ec66afac449"
      },
      "execution_count": null,
      "outputs": [
        {
          "output_type": "display_data",
          "data": {
            "text/plain": [
              "<Figure size 1200x600 with 1 Axes>"
            ],
            "image/png": "[encoded data removed]"
          },
          "metadata": {}
        }
      ]
    },
    {
      "cell_type": "markdown",
      "source": [
        "# **API Based Approach**"
      ],
      "metadata": {
        "id": "x2zxFFbyKyro"
      }
    },
    {
      "cell_type": "markdown",
      "source": [
        "## **PSIPRED**"
      ],
      "metadata": {
        "id": "x95g-WKVUoZB"
      }
    },
    {
      "cell_type": "code",
      "source": [
        "import os\n",
        "import requests\n",
        "import json\n",
        "import time\n",
        "\n",
        "uri = 'http://bioinf.cs.ucl.ac.uk/psipred/api/submission'\n",
        "\n",
        "payload = {'input_data': ('prot.txt', open('sequence.fasta', 'rb'))}\n",
        "data = {'job': 'psipred',\n",
        "        'submission_name': 'test',\n",
        "        'email': 'sheraxahmad139@gmail.com',\n",
        "        }\n",
        "print(\"Sending Request\")\n",
        "r = requests.post(uri+\".json\", data=data, files=payload)\n",
        "response_data = json.loads(r.text)\n",
        "print(response_data)\n",
        "\n",
        "while True:\n",
        "    print(\"Polling result for:\"+response_data['UUID'])\n",
        "    result_uri = uri+\"/\"+response_data['UUID']\n",
        "    r = requests.get(result_uri, headers={\"Accept\":\"application/json\"})\n",
        "    result_data = json.loads(r.text)\n",
        "    if \"Complete\" in result_data[\"state\"]:\n",
        "        print(r.text)\n",
        "        break\n",
        "    else:\n",
        "        time.sleep(30)"
      ],
      "metadata": {
        "id": "pIgyMRXFnSo5"
      },
      "execution_count": null,
      "outputs": []
    },
    {
      "cell_type": "markdown",
      "source": [
        "## **Predictprotein**"
      ],
      "metadata": {
        "id": "uU2H7iNJkLk7"
      }
    },
    {
      "cell_type": "code",
      "source": [
        "import requests\n",
        "\n",
        "def get_secondary_structure(sequence):\n",
        "    \"\"\"\n",
        "    Retrieve secondary structure predictions for a given protein sequence using PredictProtein API.\n",
        "\n",
        "    :param sequence: Protein sequence in plain text format\n",
        "    :return: Secondary structure predictions or error message\n",
        "    \"\"\"\n",
        "    url = \"https://predictprotein.org/api/ppc_fetch\"\n",
        "    params = {\n",
        "        \"action\": \"get\",         # Fetch the computed results\n",
        "        \"sequence\": sequence,    # Input sequence in plain text\n",
        "        \"method\": \"reprof\"       # Secondary structure prediction method\n",
        "    }\n",
        "\n",
        "    try:\n",
        "        response = requests.get(url, params=params)\n",
        "        response.raise_for_status()  # Raise HTTPError for bad responses\n",
        "        if \"zip\" in response.headers.get(\"Content-Type\", \"\"):\n",
        "            # The result is a zip file containing the predictions\n",
        "            with open(\"secondary_structure.zip\", \"wb\") as file:\n",
        "                file.write(response.content)\n",
        "            print(\"Secondary structure predictions downloaded as 'secondary_structure.zip'.\")\n",
        "        else:\n",
        "            print(response.json())  # Fallback to JSON response\n",
        "    except requests.exceptions.RequestException as e:\n",
        "        print(f\"Error: {e}\")\n",
        "\n",
        "# Example protein sequence\n",
        "protein_sequence = (\n",
        "    \"MAAGSGVVPPPLGAGLCTVKVEEDSPGNQESSGSGDWQNPETSRKQFRQLRYQEVAGPEEALSRLWELCRRWLRPELL\"\n",
        "    \"SKEQIMELLVLEQFLTILPQELQAYVRDHSPESGEEAAALARTLQRALDRASPQGFMTFKDVAESLTWEEWEQLAAAR\"\n",
        "    \"KGFCEESTKDAGSTVVPGLETRTVNTDVILKQEILKEAEPQAWLQEVSQGMVPALTKCGDPSEDWEEKLPKAAVLLQL\"\n",
        "    \"QGSEEQGRTAIPLLIGVSREERDSKNNESENSGSSVLGQHIQTAEGLGTNSQCGDDHKQGFHVKCHSVKPHSSVDSAV\"\n",
        "    \"GLLETQRQFQEDKPYKCDSCEKGFRQRSDLFKHQRIHTGEKPYQCQECGKRFSQSAALVKHQRTHTGEKPYACPECG\"\n",
        "    \"ECFRQSSHLSRHQRTHASEKYYKCEECGEIVHVSSLFRHQRLHRGERPYKCGDCEKSFRQRSDLFKHQRTHTGEKPY\"\n",
        ")\n",
        "\n",
        "# Fetch secondary structure predictions\n",
        "get_secondary_structure(protein_sequence)\n"
      ],
      "metadata": {
        "colab": {
          "base_uri": "https://localhost:8080/"
        },
        "id": "QEMOM8ZPTzKA",
        "outputId": "054f12dd-e7cd-47b6-bd84-bf107b700880"
      },
      "execution_count": null,
      "outputs": [
        {
          "output_type": "stream",
          "name": "stdout",
          "text": [
            "Error: 403 Client Error: Forbidden for url: https://predictprotein.org/api/ppc_fetch?action=get&sequence=MAAGSGVVPPPLGAGLCTVKVEEDSPGNQESSGSGDWQNPETSRKQFRQLRYQEVAGPEEALSRLWELCRRWLRPELLSKEQIMELLVLEQFLTILPQELQAYVRDHSPESGEEAAALARTLQRALDRASPQGFMTFKDVAESLTWEEWEQLAAARKGFCEESTKDAGSTVVPGLETRTVNTDVILKQEILKEAEPQAWLQEVSQGMVPALTKCGDPSEDWEEKLPKAAVLLQLQGSEEQGRTAIPLLIGVSREERDSKNNESENSGSSVLGQHIQTAEGLGTNSQCGDDHKQGFHVKCHSVKPHSSVDSAVGLLETQRQFQEDKPYKCDSCEKGFRQRSDLFKHQRIHTGEKPYQCQECGKRFSQSAALVKHQRTHTGEKPYACPECGECFRQSSHLSRHQRTHASEKYYKCEECGEIVHVSSLFRHQRLHRGERPYKCGDCEKSFRQRSDLFKHQRTHTGEKPY&method=reprof\n"
          ]
        }
      ]
    },
    {
      "cell_type": "markdown",
      "source": [
        "## **JPRED**"
      ],
      "metadata": {
        "id": "SO1tAzJonXJR"
      }
    },
    {
      "cell_type": "code",
      "source": [
        "import requests\n",
        "import time\n",
        "\n",
        "# Step 1: Submit the Job\n",
        "\n",
        "def submit_job(fasta_file_path, email):\n",
        "    # Define the URL for the JPred API to submit the job\n",
        "    url = 'https://www.jpred.org/api/submit_job'\n",
        "\n",
        "    # Open the FASTA file\n",
        "    with open(fasta_file_path, 'rb') as fasta_file:\n",
        "        # Prepare the data and files to send in the request\n",
        "        files = {'sequence': fasta_file}\n",
        "        data = {'email': email}\n",
        "\n",
        "        # Send the request\n",
        "        response = requests.post(url, files=files, data=data)\n",
        "\n",
        "        # Check if the job was successfully submitted\n",
        "        if response.status_code == 200:\n",
        "            print(\"Job submitted successfully!\")\n",
        "            job_id = response.text.strip()  # Get the job ID from the response\n",
        "            print(f\"Job ID: {job_id}\")\n",
        "            return job_id\n",
        "        else:\n",
        "            print(\"Error submitting job:\", response.status_code)\n",
        "            return None\n",
        "\n",
        "\n",
        "# Step 2: Check Job Status\n",
        "\n",
        "def check_job_status(job_id):\n",
        "    # Define the URL for checking the job status\n",
        "    status_url = 'https://www.jpred.org/api/job_status'\n",
        "\n",
        "    while True:\n",
        "        # Make a GET request to check the job status\n",
        "        response = requests.get(status_url, params={'jobid': job_id})\n",
        "\n",
        "        if response.status_code == 200:\n",
        "            status_data = response.json()  # Assuming the response is in JSON format\n",
        "            status = status_data.get('status')\n",
        "\n",
        "            # Check if the job is completed\n",
        "            if status == 'done':\n",
        "                print(\"Job completed successfully!\")\n",
        "                return status_data.get('result_url')  # URL to download the results\n",
        "            elif status == 'in_progress':\n",
        "                print(\"Job is still in progress. Checking again in 60 seconds...\")\n",
        "                time.sleep(60)  # Wait 60 seconds before checking again\n",
        "            else:\n",
        "                print(f\"Job status: {status}\")\n",
        "                break\n",
        "        else:\n",
        "            print(\"Error checking job status:\", response.status_code)\n",
        "            break\n",
        "\n",
        "    return None\n",
        "\n",
        "\n",
        "# Step 3: Main Function\n",
        "\n",
        "def main():\n",
        "    # Path to your FASTA file and your email address\n",
        "    fasta_file_path = 'sequence.fasta'\n",
        "    email = 'sheraxahmah139@gmail.com'\n",
        "\n",
        "    # Submit the job\n",
        "    job_id = submit_job(fasta_file_path, email)\n",
        "\n",
        "    if job_id:\n",
        "        # Check the status of the job\n",
        "        result_url = check_job_status(job_id)\n",
        "\n",
        "        if result_url:\n",
        "            print(f\"Download your results here: {result_url}\")\n",
        "        else:\n",
        "            print(\"Job failed or there was an issue retrieving results.\")\n",
        "    else:\n",
        "        print(\"Job submission failed.\")\n",
        "\n",
        "# Run the main function\n",
        "if __name__ == \"__main__\":\n",
        "    main()\n"
      ],
      "metadata": {
        "colab": {
          "base_uri": "https://localhost:8080/"
        },
        "id": "x6esqU8xUnxz",
        "outputId": "267e17f1-374f-4900-eb67-bd8b4e55262b"
      },
      "execution_count": null,
      "outputs": [
        {
          "output_type": "stream",
          "name": "stdout",
          "text": [
            "Error submitting job: 502\n",
            "Job submission failed.\n"
          ]
        }
      ]
    },
    {
      "cell_type": "markdown",
      "source": [
        "# ***With Neural Nets***"
      ],
      "metadata": {
        "id": "NDMhQ3S21UJt"
      }
    },
    {
      "cell_type": "markdown",
      "source": [
        "### **Importing Training dataset**"
      ],
      "metadata": {
        "id": "Hrf7f_eCTzzL"
      }
    },
    {
      "cell_type": "code",
      "source": [
        "import pandas as pd\n",
        "import numpy as np\n",
        "\n",
        "data = pd.read_csv(\"/content/prot-seq-filtered.csv\")\n",
        "data.head()"
      ],
      "metadata": {
        "id": "8_b-0niS1ZGr",
        "colab": {
          "base_uri": "https://localhost:8080/",
          "height": 206
        },
        "outputId": "540a0da3-a706-4fef-beff-2d64f2d411fc"
      },
      "execution_count": null,
      "outputs": [
        {
          "output_type": "execute_result",
          "data": {
            "text/plain": [
              "  pdb_id chain_code               seq              sst8              sst3  len\n",
              "0   1BXL          B  GQVGRQLAIIGDDINR  CCTTHHHHHHHHHTCC  CCCCHHHHHHHHHCCC   16\n",
              "1   1D9K          P  GNSHRGAIEWEGIESG  CCEECCCCCCCCCCCC  CCEECCCCCCCCCCCC   16\n",
              "2   1DPU          B  RIQRNKAAALLRLAAR  CCSSHHHHHHHHHHCC  CCCCHHHHHHHHHHCC   16\n",
              "3   1DXP          C  KGSVVIVGRIILSGRK  CCCBEEEEEEEECCCC  CCCEEEEEEEEECCCC   16\n",
              "4   1EJH          E  KQYDREFLLDFQFMPA  CCCCHHHHHTTSCCCC  CCCCHHHHHCCCCCCC   16"
            ],
            "text/html": [
              "\n",
              "  <div id=\"df-0543521a-2f5d-4d42-a710-10e6d87bb001\" class=\"colab-df-container\">\n",
              "    <div>\n",
              "<style scoped>\n",
              "    .dataframe tbody tr th:only-of-type {\n",
              "        vertical-align: middle;\n",
              "    }\n",
              "\n",
              "    .dataframe tbody tr th {\n",
              "        vertical-align: top;\n",
              "    }\n",
              "\n",
              "    .dataframe thead th {\n",
              "        text-align: right;\n",
              "    }\n",
              "</style>\n",
              "<table border=\"1\" class=\"dataframe\">\n",
              "  <thead>\n",
              "    <tr style=\"text-align: right;\">\n",
              "      <th></th>\n",
              "      <th>pdb_id</th>\n",
              "      <th>chain_code</th>\n",
              "      <th>seq</th>\n",
              "      <th>sst8</th>\n",
              "      <th>sst3</th>\n",
              "      <th>len</th>\n",
              "    </tr>\n",
              "  </thead>\n",
              "  <tbody>\n",
              "    <tr>\n",
              "      <th>0</th>\n",
              "      <td>1BXL</td>\n",
              "      <td>B</td>\n",
              "      <td>GQVGRQLAIIGDDINR</td>\n",
              "      <td>CCTTHHHHHHHHHTCC</td>\n",
              "      <td>CCCCHHHHHHHHHCCC</td>\n",
              "      <td>16</td>\n",
              "    </tr>\n",
              "    <tr>\n",
              "      <th>1</th>\n",
              "      <td>1D9K</td>\n",
              "      <td>P</td>\n",
              "      <td>GNSHRGAIEWEGIESG</td>\n",
              "      <td>CCEECCCCCCCCCCCC</td>\n",
              "      <td>CCEECCCCCCCCCCCC</td>\n",
              "      <td>16</td>\n",
              "    </tr>\n",
              "    <tr>\n",
              "      <th>2</th>\n",
              "      <td>1DPU</td>\n",
              "      <td>B</td>\n",
              "      <td>RIQRNKAAALLRLAAR</td>\n",
              "      <td>CCSSHHHHHHHHHHCC</td>\n",
              "      <td>CCCCHHHHHHHHHHCC</td>\n",
              "      <td>16</td>\n",
              "    </tr>\n",
              "    <tr>\n",
              "      <th>3</th>\n",
              "      <td>1DXP</td>\n",
              "      <td>C</td>\n",
              "      <td>KGSVVIVGRIILSGRK</td>\n",
              "      <td>CCCBEEEEEEEECCCC</td>\n",
              "      <td>CCCEEEEEEEEECCCC</td>\n",
              "      <td>16</td>\n",
              "    </tr>\n",
              "    <tr>\n",
              "      <th>4</th>\n",
              "      <td>1EJH</td>\n",
              "      <td>E</td>\n",
              "      <td>KQYDREFLLDFQFMPA</td>\n",
              "      <td>CCCCHHHHHTTSCCCC</td>\n",
              "      <td>CCCCHHHHHCCCCCCC</td>\n",
              "      <td>16</td>\n",
              "    </tr>\n",
              "  </tbody>\n",
              "</table>\n",
              "</div>\n",
              "    <div class=\"colab-df-buttons\">\n",
              "\n",
              "  <div class=\"colab-df-container\">\n",
              "    <button class=\"colab-df-convert\" onclick=\"convertToInteractive('df-0543521a-2f5d-4d42-a710-10e6d87bb001')\"\n",
              "            title=\"Convert this dataframe to an interactive table.\"\n",
              "            style=\"display:none;\">\n",
              "\n",
              "  <svg xmlns=\"http://www.w3.org/2000/svg\" height=\"24px\" viewBox=\"0 -960 960 960\">\n",
              "    <path d=\"M120-120v-720h720v720H120Zm60-500h600v-160H180v160Zm220 220h160v-160H400v160Zm0 220h160v-160H400v160ZM180-400h160v-160H180v160Zm440 0h160v-160H620v160ZM180-180h160v-160H180v160Zm440 0h160v-160H620v160Z\"/>\n",
              "  </svg>\n",
              "    </button>\n",
              "\n",
              "  <style>\n",
              "    .colab-df-container {\n",
              "      display:flex;\n",
              "      gap: 12px;\n",
              "    }\n",
              "\n",
              "    .colab-df-convert {\n",
              "      background-color: #E8F0FE;\n",
              "      border: none;\n",
              "      border-radius: 50%;\n",
              "      cursor: pointer;\n",
              "      display: none;\n",
              "      fill: #1967D2;\n",
              "      height: 32px;\n",
              "      padding: 0 0 0 0;\n",
              "      width: 32px;\n",
              "    }\n",
              "\n",
              "    .colab-df-convert:hover {\n",
              "      background-color: #E2EBFA;\n",
              "      box-shadow: 0px 1px 2px rgba(60, 64, 67, 0.3), 0px 1px 3px 1px rgba(60, 64, 67, 0.15);\n",
              "      fill: #174EA6;\n",
              "    }\n",
              "\n",
              "    .colab-df-buttons div {\n",
              "      margin-bottom: 4px;\n",
              "    }\n",
              "\n",
              "    [theme=dark] .colab-df-convert {\n",
              "      background-color: #3B4455;\n",
              "      fill: #D2E3FC;\n",
              "    }\n",
              "\n",
              "    [theme=dark] .colab-df-convert:hover {\n",
              "      background-color: #434B5C;\n",
              "      box-shadow: 0px 1px 3px 1px rgba(0, 0, 0, 0.15);\n",
              "      filter: drop-shadow(0px 1px 2px rgba(0, 0, 0, 0.3));\n",
              "      fill: #FFFFFF;\n",
              "    }\n",
              "  </style>\n",
              "\n",
              "    <script>\n",
              "      const buttonEl =\n",
              "        document.querySelector('#df-0543521a-2f5d-4d42-a710-10e6d87bb001 button.colab-df-convert');\n",
              "      buttonEl.style.display =\n",
              "        google.colab.kernel.accessAllowed ? 'block' : 'none';\n",
              "\n",
              "      async function convertToInteractive(key) {\n",
              "        const element = document.querySelector('#df-0543521a-2f5d-4d42-a710-10e6d87bb001');\n",
              "        const dataTable =\n",
              "          await google.colab.kernel.invokeFunction('convertToInteractive',\n",
              "                                                    [key], {});\n",
              "        if (!dataTable) return;\n",
              "\n",
              "        const docLinkHtml = 'Like what you see? Visit the ' +\n",
              "          '<a target=\"_blank\" href=https://colab.research.google.com/notebooks/data_table.ipynb>data table notebook</a>'\n",
              "          + ' to learn more about interactive tables.';\n",
              "        element.innerHTML = '';\n",
              "        dataTable['output_type'] = 'display_data';\n",
              "        await google.colab.output.renderOutput(dataTable, element);\n",
              "        const docLink = document.createElement('div');\n",
              "        docLink.innerHTML = docLinkHtml;\n",
              "        element.appendChild(docLink);\n",
              "      }\n",
              "    </script>\n",
              "  </div>\n",
              "\n",
              "\n",
              "<div id=\"df-3ffe1027-2f0b-4045-b8af-9b732835c558\">\n",
              "  <button class=\"colab-df-quickchart\" onclick=\"quickchart('df-3ffe1027-2f0b-4045-b8af-9b732835c558')\"\n",
              "            title=\"Suggest charts\"\n",
              "            style=\"display:none;\">\n",
              "\n",
              "<svg xmlns=\"http://www.w3.org/2000/svg\" height=\"24px\"viewBox=\"0 0 24 24\"\n",
              "     width=\"24px\">\n",
              "    <g>\n",
              "        <path d=\"M19 3H5c-1.1 0-2 .9-2 2v14c0 1.1.9 2 2 2h14c1.1 0 2-.9 2-2V5c0-1.1-.9-2-2-2zM9 17H7v-7h2v7zm4 0h-2V7h2v10zm4 0h-2v-4h2v4z\"/>\n",
              "    </g>\n",
              "</svg>\n",
              "  </button>\n",
              "\n",
              "<style>\n",
              "  .colab-df-quickchart {\n",
              "      --bg-color: #E8F0FE;\n",
              "      --fill-color: #1967D2;\n",
              "      --hover-bg-color: #E2EBFA;\n",
              "      --hover-fill-color: #174EA6;\n",
              "      --disabled-fill-color: #AAA;\n",
              "      --disabled-bg-color: #DDD;\n",
              "  }\n",
              "\n",
              "  [theme=dark] .colab-df-quickchart {\n",
              "      --bg-color: #3B4455;\n",
              "      --fill-color: #D2E3FC;\n",
              "      --hover-bg-color: #434B5C;\n",
              "      --hover-fill-color: #FFFFFF;\n",
              "      --disabled-bg-color: #3B4455;\n",
              "      --disabled-fill-color: #666;\n",
              "  }\n",
              "\n",
              "  .colab-df-quickchart {\n",
              "    background-color: var(--bg-color);\n",
              "    border: none;\n",
              "    border-radius: 50%;\n",
              "    cursor: pointer;\n",
              "    display: none;\n",
              "    fill: var(--fill-color);\n",
              "    height: 32px;\n",
              "    padding: 0;\n",
              "    width: 32px;\n",
              "  }\n",
              "\n",
              "  .colab-df-quickchart:hover {\n",
              "    background-color: var(--hover-bg-color);\n",
              "    box-shadow: 0 1px 2px rgba(60, 64, 67, 0.3), 0 1px 3px 1px rgba(60, 64, 67, 0.15);\n",
              "    fill: var(--button-hover-fill-color);\n",
              "  }\n",
              "\n",
              "  .colab-df-quickchart-complete:disabled,\n",
              "  .colab-df-quickchart-complete:disabled:hover {\n",
              "    background-color: var(--disabled-bg-color);\n",
              "    fill: var(--disabled-fill-color);\n",
              "    box-shadow: none;\n",
              "  }\n",
              "\n",
              "  .colab-df-spinner {\n",
              "    border: 2px solid var(--fill-color);\n",
              "    border-color: transparent;\n",
              "    border-bottom-color: var(--fill-color);\n",
              "    animation:\n",
              "      spin 1s steps(1) infinite;\n",
              "  }\n",
              "\n",
              "  @keyframes spin {\n",
              "    0% {\n",
              "      border-color: transparent;\n",
              "      border-bottom-color: var(--fill-color);\n",
              "      border-left-color: var(--fill-color);\n",
              "    }\n",
              "    20% {\n",
              "      border-color: transparent;\n",
              "      border-left-color: var(--fill-color);\n",
              "      border-top-color: var(--fill-color);\n",
              "    }\n",
              "    30% {\n",
              "      border-color: transparent;\n",
              "      border-left-color: var(--fill-color);\n",
              "      border-top-color: var(--fill-color);\n",
              "      border-right-color: var(--fill-color);\n",
              "    }\n",
              "    40% {\n",
              "      border-color: transparent;\n",
              "      border-right-color: var(--fill-color);\n",
              "      border-top-color: var(--fill-color);\n",
              "    }\n",
              "    60% {\n",
              "      border-color: transparent;\n",
              "      border-right-color: var(--fill-color);\n",
              "    }\n",
              "    80% {\n",
              "      border-color: transparent;\n",
              "      border-right-color: var(--fill-color);\n",
              "      border-bottom-color: var(--fill-color);\n",
              "    }\n",
              "    90% {\n",
              "      border-color: transparent;\n",
              "      border-bottom-color: var(--fill-color);\n",
              "    }\n",
              "  }\n",
              "</style>\n",
              "\n",
              "  <script>\n",
              "    async function quickchart(key) {\n",
              "      const quickchartButtonEl =\n",
              "        document.querySelector('#' + key + ' button');\n",
              "      quickchartButtonEl.disabled = true;  // To prevent multiple clicks.\n",
              "      quickchartButtonEl.classList.add('colab-df-spinner');\n",
              "      try {\n",
              "        const charts = await google.colab.kernel.invokeFunction(\n",
              "            'suggestCharts', [key], {});\n",
              "      } catch (error) {\n",
              "        console.error('Error during call to suggestCharts:', error);\n",
              "      }\n",
              "      quickchartButtonEl.classList.remove('colab-df-spinner');\n",
              "      quickchartButtonEl.classList.add('colab-df-quickchart-complete');\n",
              "    }\n",
              "    (() => {\n",
              "      let quickchartButtonEl =\n",
              "        document.querySelector('#df-3ffe1027-2f0b-4045-b8af-9b732835c558 button');\n",
              "      quickchartButtonEl.style.display =\n",
              "        google.colab.kernel.accessAllowed ? 'block' : 'none';\n",
              "    })();\n",
              "  </script>\n",
              "</div>\n",
              "\n",
              "    </div>\n",
              "  </div>\n"
            ],
            "application/vnd.google.colaboratory.intrinsic+json": {
              "type": "dataframe",
              "variable_name": "data",
              "summary": "{\n  \"name\": \"data\",\n  \"rows\": 15272,\n  \"fields\": [\n    {\n      \"column\": \"pdb_id\",\n      \"properties\": {\n        \"dtype\": \"string\",\n        \"num_unique_values\": 13767,\n        \"samples\": [\n          \"2YRK\",\n          \"3H4N\",\n          \"4HEO\"\n        ],\n        \"semantic_type\": \"\",\n        \"description\": \"\"\n      }\n    },\n    {\n      \"column\": \"chain_code\",\n      \"properties\": {\n        \"dtype\": \"category\",\n        \"num_unique_values\": 62,\n        \"samples\": [\n          \"g\",\n          \"p\",\n          \"B\"\n        ],\n        \"semantic_type\": \"\",\n        \"description\": \"\"\n      }\n    },\n    {\n      \"column\": \"seq\",\n      \"properties\": {\n        \"dtype\": \"string\",\n        \"num_unique_values\": 15272,\n        \"samples\": [\n          \"SNAQKKYYNAMKKLGSKKPQKPIPRPLNKYQGFIF\",\n          \"GDIQKTYKDTCELCHGADGKGSEAGKQFGVPDFTSPDYQKSRTDAQMKESMTNGTKNPNFVKLSDLGVDLADLDPLVQLVRGFNGK\",\n          \"QGPPLMALQSCCFAYIARPLPRAHIKEYFYTSGKCSNPAVVFVTRKNRQVCANPEKKWVREYINSLEMSLEVLFQ\"\n        ],\n        \"semantic_type\": \"\",\n        \"description\": \"\"\n      }\n    },\n    {\n      \"column\": \"sst8\",\n      \"properties\": {\n        \"dtype\": \"string\",\n        \"num_unique_values\": 14775,\n        \"samples\": [\n          \"CCCCCCCCCSEEEEEECTTSCEEEEEECTTCBHHHHHHHHHHHHCCCGGGCEEEETTEEECTTSBTTTTTCCTTEEEEEECCCSCC\",\n          \"CCCCSSSSCCCSHHHHHHHHHHHHHTTCCCCHHHHHHHHHHHHHTCCCHHHHHHHHHHHHHTCCCTTCCCC\",\n          \"CCCEEEEEEEEEEEEETTEEEEEEEETTSCGGGCEEEETTTBCCHHHHHHHHTTTC\"\n        ],\n        \"semantic_type\": \"\",\n        \"description\": \"\"\n      }\n    },\n    {\n      \"column\": \"sst3\",\n      \"properties\": {\n        \"dtype\": \"string\",\n        \"num_unique_values\": 13789,\n        \"samples\": [\n          \"CCEEEECCCCCCCCHHHHHCCCCCCEEEECCCCCCCEEEECCCHHHCCCCCHHHHCCCCCCCCEEEECCCCCCCCCCCCC\",\n          \"CCCCCCCEEEEECCCECCCCCCECCECCCCEEEEEEECHHHCCCEEEEEECCEEEEEEHHHEEEECCCCCCCCCCCCCCCCCCCCCCCCCCCCCCCCCCC\",\n          \"CCCCCCCECHHHHHHHHHHCCCHHHCCCCECCCEECHHHHHHHHCCC\"\n        ],\n        \"semantic_type\": \"\",\n        \"description\": \"\"\n      }\n    },\n    {\n      \"column\": \"len\",\n      \"properties\": {\n        \"dtype\": \"number\",\n        \"std\": 25,\n        \"min\": 16,\n        \"max\": 100,\n        \"num_unique_values\": 85,\n        \"samples\": [\n          94,\n          16,\n          84\n        ],\n        \"semantic_type\": \"\",\n        \"description\": \"\"\n      }\n    }\n  ]\n}"
            }
          },
          "metadata": {},
          "execution_count": 1
        }
      ]
    },
    {
      "cell_type": "markdown",
      "source": [
        "### **Building Neural net**"
      ],
      "metadata": {
        "id": "xaBjFDqST55l"
      }
    },
    {
      "cell_type": "code",
      "source": [
        "import pandas as pd\n",
        "import numpy as np\n",
        "from sklearn.model_selection import train_test_split\n",
        "from sklearn.preprocessing import LabelEncoder\n",
        "from tensorflow.keras.models import Sequential\n",
        "from tensorflow.keras.layers import Embedding, LSTM, Dense, Dropout, Bidirectional, Conv1D, GlobalMaxPooling1D\n",
        "from tensorflow.keras.preprocessing.sequence import pad_sequences\n",
        "from tensorflow.keras.callbacks import EarlyStopping\n",
        "\n",
        "data = pd.read_csv(\"/content/prot-seq-filtered.csv\")\n",
        "\n",
        "# Encoding\n",
        "amino_acids = 'ACDEFGHIKLMNPQRSTVWY'\n",
        "aa_to_index = {aa: idx + 1 for idx, aa in enumerate(amino_acids)}\n",
        "\n",
        "def encode_sequence(seq):\n",
        "    return [aa_to_index.get(aa, 0) for aa in seq]\n",
        "\n",
        "data['encoded_seq'] = data['seq'].apply(encode_sequence)\n",
        "\n",
        "# Encoding sst3 labels as categories\n",
        "def encode_sst3(sst3):\n",
        "    mapping = {'H': 0, 'E': 1, 'C': 2}  # Helix: H, Sheet: E, Coil: C\n",
        "    return [mapping[s] for s in sst3]\n",
        "\n",
        "data['sst3_encoded'] = data['sst3'].apply(encode_sst3)\n",
        "\n",
        "\n",
        "X = data['encoded_seq'].tolist()\n",
        "y = data['sst3_encoded'].tolist()\n",
        "\n",
        "# Padding sequences\n",
        "max_seq_length = max(data['seq'].apply(len))\n",
        "X_padded = pad_sequences(X, maxlen=max_seq_length, padding='post')\n",
        "y_padded = pad_sequences(y, maxlen=max_seq_length, padding='post')\n",
        "\n",
        "# Train-test split\n",
        "X_train, X_test, y_train, y_test = train_test_split(X_padded, y_padded, test_size=0.2, random_state=42)\n",
        "\n",
        "# Model architecture\n",
        "embedding_dim = 32\n",
        "num_classes = 3\n",
        "\n",
        "def build_model():\n",
        "    model = Sequential([\n",
        "        Embedding(input_dim=len(amino_acids) + 1, output_dim=embedding_dim, input_length=max_seq_length),\n",
        "        Conv1D(filters=64, kernel_size=3, activation='relu', padding='same'),\n",
        "        Bidirectional(LSTM(64, return_sequences=True)),\n",
        "        Dropout(0.5),\n",
        "        Dense(num_classes, activation='softmax')  # 3 classes: H, E, C\n",
        "    ])\n",
        "    model.compile(optimizer='adam', loss='sparse_categorical_crossentropy', metrics=['accuracy'])\n",
        "    return model\n",
        "\n",
        "\n",
        "model = build_model()\n",
        "\n",
        "# Training the model\n",
        "callbacks = [EarlyStopping(monitor='val_loss', patience=3, restore_best_weights=True)]\n",
        "\n",
        "history = model.fit(\n",
        "    X_train, y_train,\n",
        "    validation_data=(X_test, y_test),\n",
        "    epochs=20,\n",
        "    batch_size=16,\n",
        "    callbacks=callbacks\n",
        ")\n",
        "\n",
        "# Evaluating the model\n",
        "test_loss, test_accuracy = model.evaluate(X_test, y_test)\n",
        "print(f\"Test Loss: {test_loss:.4f}, Test Accuracy: {test_accuracy:.4f}\")\n",
        "\n",
        "# plotting the training\n",
        "import matplotlib.pyplot as plt\n",
        "\n",
        "def plot_training_history(history):\n",
        "    plt.figure(figsize=(12, 4))\n",
        "    plt.subplot(1, 2, 1)\n",
        "    plt.plot(history.history['loss'], label='Train Loss')\n",
        "    plt.plot(history.history['val_loss'], label='Validation Loss')\n",
        "    plt.title('Loss Over Epochs')\n",
        "    plt.xlabel('Epochs')\n",
        "    plt.ylabel('Loss')\n",
        "    plt.legend()\n",
        "\n",
        "    plt.subplot(1, 2, 2)\n",
        "    plt.plot(history.history['accuracy'], label='Train Accuracy')\n",
        "    plt.plot(history.history['val_accuracy'], label='Validation Accuracy')\n",
        "    plt.title('Accuracy Over Epochs')\n",
        "    plt.xlabel('Epochs')\n",
        "    plt.ylabel('Accuracy')\n",
        "    plt.legend()\n",
        "\n",
        "    plt.show()\n",
        "\n",
        "plot_training_history(history)\n"
      ],
      "metadata": {
        "colab": {
          "base_uri": "https://localhost:8080/",
          "height": 1000
        },
        "id": "72SvqDDxIUnL",
        "outputId": "f33012a2-c93f-465e-dff8-28fdb482feae"
      },
      "execution_count": null,
      "outputs": [
        {
          "metadata": {
            "tags": null
          },
          "name": "stdout",
          "output_type": "stream",
          "text": [
            "Epoch 1/20\n"
          ]
        },
        {
          "metadata": {
            "tags": null
          },
          "name": "stderr",
          "output_type": "stream",
          "text": [
            "/usr/local/lib/python3.10/dist-packages/keras/src/layers/core/embedding.py:90: UserWarning: Argument `input_length` is deprecated. Just remove it.\n",
            "  warnings.warn(\n"
          ]
        },
        {
          "output_type": "stream",
          "name": "stdout",
          "text": [
            "\u001b[1m764/764\u001b[0m \u001b[32m━━━━━━━━━━━━━━━━━━━━\u001b[0m\u001b[37m\u001b[0m \u001b[1m85s\u001b[0m 104ms/step - accuracy: 0.7408 - loss: 0.5677 - val_accuracy: 0.8120 - val_loss: 0.4341\n",
            "Epoch 2/20\n",
            "\u001b[1m764/764\u001b[0m \u001b[32m━━━━━━━━━━━━━━━━━━━━\u001b[0m\u001b[37m\u001b[0m \u001b[1m82s\u001b[0m 104ms/step - accuracy: 0.8108 - loss: 0.4409 - val_accuracy: 0.8228 - val_loss: 0.4108\n",
            "Epoch 3/20\n",
            "\u001b[1m764/764\u001b[0m \u001b[32m━━━━━━━━━━━━━━━━━━━━\u001b[0m\u001b[37m\u001b[0m \u001b[1m83s\u001b[0m 105ms/step - accuracy: 0.8214 - loss: 0.4192 - val_accuracy: 0.8278 - val_loss: 0.4017\n",
            "Epoch 4/20\n",
            "\u001b[1m764/764\u001b[0m \u001b[32m━━━━━━━━━━━━━━━━━━━━\u001b[0m\u001b[37m\u001b[0m \u001b[1m79s\u001b[0m 102ms/step - accuracy: 0.8280 - loss: 0.4054 - val_accuracy: 0.8338 - val_loss: 0.3890\n",
            "Epoch 5/20\n",
            "\u001b[1m764/764\u001b[0m \u001b[32m━━━━━━━━━━━━━━━━━━━━\u001b[0m\u001b[37m\u001b[0m \u001b[1m82s\u001b[0m 102ms/step - accuracy: 0.8325 - loss: 0.3966 - val_accuracy: 0.8385 - val_loss: 0.3793\n",
            "Epoch 6/20\n",
            "\u001b[1m764/764\u001b[0m \u001b[32m━━━━━━━━━━━━━━━━━━━━\u001b[0m\u001b[37m\u001b[0m \u001b[1m82s\u001b[0m 102ms/step - accuracy: 0.8379 - loss: 0.3846 - val_accuracy: 0.8430 - val_loss: 0.3708\n",
            "Epoch 7/20\n",
            "\u001b[1m764/764\u001b[0m \u001b[32m━━━━━━━━━━━━━━━━━━━━\u001b[0m\u001b[37m\u001b[0m \u001b[1m83s\u001b[0m 103ms/step - accuracy: 0.8402 - loss: 0.3799 - val_accuracy: 0.8435 - val_loss: 0.3687\n",
            "Epoch 8/20\n",
            "\u001b[1m764/764\u001b[0m \u001b[32m━━━━━━━━━━━━━━━━━━━━\u001b[0m\u001b[37m\u001b[0m \u001b[1m83s\u001b[0m 104ms/step - accuracy: 0.8442 - loss: 0.3719 - val_accuracy: 0.8476 - val_loss: 0.3608\n",
            "Epoch 9/20\n",
            "\u001b[1m764/764\u001b[0m \u001b[32m━━━━━━━━━━━━━━━━━━━━\u001b[0m\u001b[37m\u001b[0m \u001b[1m81s\u001b[0m 103ms/step - accuracy: 0.8484 - loss: 0.3628 - val_accuracy: 0.8466 - val_loss: 0.3615\n",
            "Epoch 10/20\n",
            "\u001b[1m764/764\u001b[0m \u001b[32m━━━━━━━━━━━━━━━━━━━━\u001b[0m\u001b[37m\u001b[0m \u001b[1m80s\u001b[0m 105ms/step - accuracy: 0.8509 - loss: 0.3568 - val_accuracy: 0.8486 - val_loss: 0.3578\n",
            "Epoch 11/20\n",
            "\u001b[1m764/764\u001b[0m \u001b[32m━━━━━━━━━━━━━━━━━━━━\u001b[0m\u001b[37m\u001b[0m \u001b[1m82s\u001b[0m 105ms/step - accuracy: 0.8551 - loss: 0.3493 - val_accuracy: 0.8533 - val_loss: 0.3489\n",
            "Epoch 12/20\n",
            "\u001b[1m764/764\u001b[0m \u001b[32m━━━━━━━━━━━━━━━━━━━━\u001b[0m\u001b[37m\u001b[0m \u001b[1m83s\u001b[0m 106ms/step - accuracy: 0.8561 - loss: 0.3465 - val_accuracy: 0.8541 - val_loss: 0.3478\n",
            "Epoch 13/20\n",
            "\u001b[1m764/764\u001b[0m \u001b[32m━━━━━━━━━━━━━━━━━━━━\u001b[0m\u001b[37m\u001b[0m \u001b[1m80s\u001b[0m 103ms/step - accuracy: 0.8592 - loss: 0.3395 - val_accuracy: 0.8557 - val_loss: 0.3453\n",
            "Epoch 14/20\n",
            "\u001b[1m764/764\u001b[0m \u001b[32m━━━━━━━━━━━━━━━━━━━━\u001b[0m\u001b[37m\u001b[0m \u001b[1m81s\u001b[0m 102ms/step - accuracy: 0.8610 - loss: 0.3348 - val_accuracy: 0.8585 - val_loss: 0.3393\n",
            "Epoch 15/20\n",
            "\u001b[1m764/764\u001b[0m \u001b[32m━━━━━━━━━━━━━━━━━━━━\u001b[0m\u001b[37m\u001b[0m \u001b[1m82s\u001b[0m 103ms/step - accuracy: 0.8656 - loss: 0.3267 - val_accuracy: 0.8566 - val_loss: 0.3450\n",
            "Epoch 16/20\n",
            "\u001b[1m764/764\u001b[0m \u001b[32m━━━━━━━━━━━━━━━━━━━━\u001b[0m\u001b[37m\u001b[0m \u001b[1m82s\u001b[0m 103ms/step - accuracy: 0.8672 - loss: 0.3230 - val_accuracy: 0.8597 - val_loss: 0.3370\n",
            "Epoch 17/20\n",
            "\u001b[1m764/764\u001b[0m \u001b[32m━━━━━━━━━━━━━━━━━━━━\u001b[0m\u001b[37m\u001b[0m \u001b[1m82s\u001b[0m 103ms/step - accuracy: 0.8697 - loss: 0.3170 - val_accuracy: 0.8614 - val_loss: 0.3328\n",
            "Epoch 18/20\n",
            "\u001b[1m764/764\u001b[0m \u001b[32m━━━━━━━━━━━━━━━━━━━━\u001b[0m\u001b[37m\u001b[0m \u001b[1m80s\u001b[0m 105ms/step - accuracy: 0.8710 - loss: 0.3138 - val_accuracy: 0.8620 - val_loss: 0.3320\n",
            "Epoch 19/20\n",
            "\u001b[1m764/764\u001b[0m \u001b[32m━━━━━━━━━━━━━━━━━━━━\u001b[0m\u001b[37m\u001b[0m \u001b[1m81s\u001b[0m 106ms/step - accuracy: 0.8728 - loss: 0.3100 - val_accuracy: 0.8633 - val_loss: 0.3308\n",
            "Epoch 20/20\n",
            "\u001b[1m764/764\u001b[0m \u001b[32m━━━━━━━━━━━━━━━━━━━━\u001b[0m\u001b[37m\u001b[0m \u001b[1m80s\u001b[0m 104ms/step - accuracy: 0.8763 - loss: 0.3029 - val_accuracy: 0.8639 - val_loss: 0.3302\n",
            "\u001b[1m96/96\u001b[0m \u001b[32m━━━━━━━━━━━━━━━━━━━━\u001b[0m\u001b[37m\u001b[0m \u001b[1m3s\u001b[0m 32ms/step - accuracy: 0.8620 - loss: 0.3343\n",
            "Test Loss: 0.3302, Test Accuracy: 0.8639\n"
          ]
        },
        {
          "output_type": "display_data",
          "data": {
            "text/plain": [
              "<Figure size 1200x400 with 2 Axes>"
            ],
            "image/png": "[encoded data removed]"
          },
          "metadata": {}
        }
      ]
    },
    {
      "cell_type": "markdown",
      "source": [
        "### **Getting Prediction**"
      ],
      "metadata": {
        "id": "OnhsZmaKUDkM"
      }
    },
    {
      "cell_type": "code",
      "source": [
        "def predict_secondary_structure(fasta_file, model, max_seq_length):\n",
        "    fasta_file = '/content/sequence.fasta'\n",
        "    with open(fasta_file, 'r') as file:\n",
        "        lines = file.readlines()\n",
        "\n",
        "    sequence = ''.join(line.strip() for line in lines[1:])\n",
        "\n",
        "    # Encoding the sequence\n",
        "    encoded_sequence = encode_sequence(sequence)\n",
        "\n",
        "    # Padding the sequence\n",
        "    padded_sequence = pad_sequences([encoded_sequence], maxlen=max_seq_length, padding='post')\n",
        "\n",
        "    # predictions\n",
        "    predictions = model.predict(padded_sequence)[0]\n",
        "    predicted_labels = np.argmax(predictions, axis=1)\n",
        "\n",
        "    # Decoding labels\n",
        "    index_to_sst3 = {0: 'H', 1: 'E', 2: 'C'}\n",
        "    predicted_sst3 = ''.join(index_to_sst3[label] for label in predicted_labels)\n",
        "\n",
        "\n",
        "    print(sequence)\n",
        "    print(predicted_sst3)\n",
        "\n",
        "predict_secondary_structure('example.fasta', model, max_seq_length)\n"
      ],
      "metadata": {
        "colab": {
          "base_uri": "https://localhost:8080/"
        },
        "id": "f8uouGyFJYr2",
        "outputId": "db7e1e74-fa8d-489e-dad7-e49102cacc48"
      },
      "execution_count": null,
      "outputs": [
        {
          "output_type": "stream",
          "name": "stdout",
          "text": [
            "\u001b[1m1/1\u001b[0m \u001b[32m━━━━━━━━━━━━━━━━━━━━\u001b[0m\u001b[37m\u001b[0m \u001b[1m0s\u001b[0m 30ms/step\n",
            "MAESQEFADLWERNLISTQEGAPCWEFINDEQYLPSSFDPNIFDNVLNEPPQTSTSPPTASVPVATDYPGEHGFKLGFPQSGTAKSVTCTYSSELNKLFC\n",
            "CCCCHHHHHHHHHHHHHCCCCCCCCCCCCCCCCCCCCCCCCHHHHHHCCCCCCCCCCCCCCCCCCCCCCCCCCCCCCCCCCCCCCCCCCCCCCHHHCHEE\n"
          ]
        }
      ]
    },
    {
      "cell_type": "code",
      "source": [
        "import matplotlib.pyplot as plt\n",
        "import numpy as np\n",
        "\n",
        "def visualize_secondary_structure(protein_sequence, predicted_structure, sequence_id):\n",
        "    \"\"\"\n",
        "    Visualizes the secondary structure prediction using a bar plot.\n",
        "    \"\"\"\n",
        "    # Define the color map with proper handling for 'H', 'E', and 'C'\n",
        "    color_map = {\n",
        "        'H': 'lightblue',  # Helix\n",
        "        'E': 'lightpink',  # Beta Sheet\n",
        "        'C': 'grey'        # Coil\n",
        "    }\n",
        "\n",
        "    # Check if the predicted structure contains only allowed characters\n",
        "    for structure in predicted_structure:\n",
        "        if structure not in color_map:\n",
        "            raise ValueError(f\"Unexpected structure character: {structure}. Expected 'H', 'E', or 'C'.\")\n",
        "\n",
        "    # Plotting\n",
        "    fig, ax = plt.subplots(figsize=(12, 0.5))\n",
        "    x = np.arange(len(protein_sequence))\n",
        "\n",
        "    # Plot each amino acid with the corresponding secondary structure color\n",
        "    for i, (aa, structure) in enumerate(zip(protein_sequence, predicted_structure)):\n",
        "        ax.bar(x[i], 1, color=color_map[structure], width=1, align='center')\n",
        "\n",
        "    # Customize the plot\n",
        "    ax.set_xlim(-1, len(protein_sequence))\n",
        "    ax.set_ylim(0, 1)\n",
        "    ax.set_xticks(x[::10])\n",
        "    ax.set_xticklabels(protein_sequence[::10], rotation=90, fontsize=8)\n",
        "    ax.set_yticks([])\n",
        "    ax.set_xlabel('Amino Acid Position')\n",
        "    ax.set_title(f'Predicted Secondary Structure of Sequence: {sequence_id}')\n",
        "\n",
        "    # # Add legend\n",
        "    # handles = [plt.Line2D([0], [0], color=color, lw=4, label=label) for label, color in {\n",
        "    #     'Helix': 'lightblue', 'Sheet': 'lightpink', 'Coil': 'grey'}.items()]\n",
        "    # ax.legend(handles=handles, loc='upper right')\n",
        "\n",
        "    plt.tight_layout()\n",
        "    plt.show()\n",
        "\n",
        "# Example usage\n",
        "protein_sequence = 'MAESQEFADLWERNLISTQEGAPCWEFINDEQYLPSSFDPNIFDNVLNEPPQTSTSPPTASVPVATDYPGEHGFKLGFPQSGTAKSVTCTYSSELNKLFC'\n",
        "predicted_structure = 'CCCCHHHHHHHHHHHHHCCCCCCCCCCCCCCCCCCCCCCCCHHHHHHCCCCCCCCCCCCCCCCCCCCCCCCCCCCCCCCCCCCCCCCCCCCCCHHHCHEE'\n",
        "sequence_id = 'pnn'\n",
        "\n",
        "# Call the function to visualize the secondary structure\n",
        "visualize_secondary_structure(protein_sequence, predicted_structure, sequence_id)\n"
      ],
      "metadata": {
        "id": "8nc2jo-gS3vy",
        "colab": {
          "base_uri": "https://localhost:8080/",
          "height": 138
        },
        "outputId": "6dc78799-9d11-4428-f00f-fcb8059908d6"
      },
      "execution_count": null,
      "outputs": [
        {
          "output_type": "display_data",
          "data": {
            "text/plain": [
              "<Figure size 1200x50 with 1 Axes>"
            ],
            "image/png": "[encoded data removed]"
          },
          "metadata": {}
        }
      ]
    },
    {
      "cell_type": "code",
      "source": [],
      "metadata": {
        "id": "2Gs-Qu2GJ0mz"
      },
      "execution_count": null,
      "outputs": []
    }
  ]
}